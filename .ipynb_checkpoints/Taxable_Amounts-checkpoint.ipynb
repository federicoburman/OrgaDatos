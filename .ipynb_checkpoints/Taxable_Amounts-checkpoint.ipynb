{
 "cells": [
  {
   "cell_type": "code",
   "execution_count": null,
   "metadata": {},
   "outputs": [],
   "source": [
    "import pandas as pd\n",
    "import numpy as np\n",
    "import seaborn as sns\n",
    "import matplotlib.pyplot as plt\n",
    "%matplotlib inline\n",
    "plt.style.use('seaborn')"
   ]
  },
  {
   "cell_type": "code",
   "execution_count": null,
   "metadata": {},
   "outputs": [],
   "source": [
    "oportunidades = pd.read_csv('Entrenamiento_ECI_2020.csv')\n",
    "oportunidades['Account_Created_Date'] = pd.to_datetime(oportunidades['Account_Created_Date'])\n",
    "oportunidades['Opportunity_Created_Date'] = pd.to_datetime(oportunidades['Opportunity_Created_Date'])\n",
    "oportunidades['Quote_Expiry_Date'] = pd.to_datetime(oportunidades['Quote_Expiry_Date'])\n",
    "oportunidades['Last_Modified_Date'] = pd.to_datetime(oportunidades['Last_Modified_Date'])\n",
    "oportunidades['Planned_Delivery_Start_Date'] = pd.to_datetime(oportunidades['Planned_Delivery_Start_Date'])\n",
    "oportunidades['Planned_Delivery_End_Date'] = pd.to_datetime(oportunidades['Planned_Delivery_End_Date'])\n",
    "oportunidades = oportunidades.dropna()\n",
    "oportunidades['Region'] = oportunidades['Region'].replace({'Japan':'APAC', 'Middle East':'EMEA'})\n",
    "oportunidades.head(5)"
   ]
  },
  {
   "cell_type": "code",
   "execution_count": null,
   "metadata": {},
   "outputs": [],
   "source": [
    "#Filtramos datos no útiles como en el notebook de ClosedWon\n",
    "\n",
    "oportunidades = oportunidades.loc[oportunidades['Territory'] != 'None']\n",
    "\n",
    "filtro_terminos_entrega = oportunidades['Pricing, Delivery_Terms_Quote_Appr']\\\n",
    "     == oportunidades['Pricing, Delivery_Terms_Approved']\n",
    "\n",
    "filtro_codigo_burocratico = oportunidades['Bureaucratic_Code_0_Approval']\\\n",
    "     == oportunidades['Bureaucratic_Code_0_Approved']\n",
    "\n",
    "oportunidades = oportunidades.drop(['Pricing, Delivery_Terms_Quote_Appr'\\\n",
    "    ,'Pricing, Delivery_Terms_Approved', 'Bureaucratic_Code_0_Approval'\\\n",
    "        , 'Bureaucratic_Code_0_Approved', 'Submitted_for_Approval'], axis = 'columns')\n",
    "\n",
    "oportunidades_posibles = (filtro_terminos_entrega & filtro_codigo_burocratico)\n",
    "\n",
    "oportunidades.insert(3,'Es_Oportunidad_Posible', oportunidades_posibles)\n",
    "\n",
    "oportunidades['Es_Oportunidad_Posible'] = oportunidades['Es_Oportunidad_Posible'].replace(\n",
    "    {True:1, False:0})\n",
    "oportunidades"
   ]
  },
  {
   "cell_type": "code",
   "execution_count": null,
   "metadata": {},
   "outputs": [],
   "source": [
    "#Obtenemos las columnas de total_amount y total_taxable_amount para cada una de las oportunidades.\n",
    "\n",
    "oportunidades_amount = oportunidades.groupby('Opportunity_ID').agg({'Total_Amount': 'sum', 'Total_Taxable_Amount': 'mean'})\n",
    "oportunidades_amount['Total_Amount'] = oportunidades_amount['Total_Amount'].round(1)\n",
    "oportunidades_amount['Total_Taxable_Amount'] = oportunidades_amount['Total_Taxable_Amount'].round(1)\n",
    "oportunidades_amount"
   ]
  },
  {
   "cell_type": "code",
   "execution_count": null,
   "metadata": {},
   "outputs": [],
   "source": [
    "#Conociendo las columnas puedo ver si alguna de estas tiene distinto taxable amount de total amount.\n",
    "oportunidades_amount_loc = oportunidades_amount.loc[oportunidades_amount['Total_Amount'] != oportunidades_amount\\\n",
    "                                                    ['Total_Taxable_Amount']]\n",
    "oportunidades_amount_loc"
   ]
  },
  {
   "cell_type": "code",
   "execution_count": null,
   "metadata": {},
   "outputs": [],
   "source": [
    "# Debido a que poseemos 616 elementos con diferencia entre su total amount y su taxable amount, \n",
    "# queremos ver si esto afecta a los casos de closed won o lost\n",
    "\n",
    "oportunidades_amount_loc = oportunidades_amount_loc.reset_index()\n",
    "oportunidades_amount_loc.columns = ['Opportunity_ID', 'Total_Amount_Sumado', 'Total_Tax_Amount_Comparado']\n",
    "oportunidades_dif_amount = oportunidades.merge(oportunidades_amount_loc, on='Opportunity_ID')\n",
    "oportunidades_dif_amount['Delta_Amount'] = (oportunidades_dif_amount['Total_Amount_Sumado'] - \\\n",
    "                                            oportunidades_dif_amount['Total_Taxable_Amount'])/ \\\n",
    "                                            oportunidades_dif_amount['Total_Amount_Sumado']\n",
    "oportunidades_dif_amount = oportunidades_dif_amount.drop_duplicates('Opportunity_ID', keep='last')\n",
    "oportunidades_dif_amount_stage = oportunidades_dif_amount[['Stage', 'Delta_Amount', 'Opportunity_ID']]\n",
    "oportunidades_dif_amount_stage = oportunidades_dif_amount_stage.set_index('Opportunity_ID')\n",
    "oportunidades_dif_amount_stage['Delta_Amount'] = oportunidades_dif_amount_stage['Delta_Amount'].round(1)\n",
    "oportunidades_dif_amount_stage = oportunidades_dif_amount_stage.loc[(oportunidades_dif_amount_stage['Stage'] == 'Closed Lost') |\\\n",
    "                                                                    (oportunidades_dif_amount_stage['Stage'] == 'Closed Won')]\n",
    "oportunidades_dif_amount_stage"
   ]
  },
  {
   "cell_type": "code",
   "execution_count": null,
   "metadata": {},
   "outputs": [],
   "source": [
    "# Conociendo los stage de cada uno podemos ver que porcentaje lidera en la diferencia, si closed lost o closed won, y\n",
    "# por otro lado podemos analizar cual es el delta amount. Si es negativo es porque tiene mas tasa impositiva que total amount.\n",
    "# Si es positivo, es lo contrario, menor tasa impositiva, que total amount.\n",
    "\n",
    "colores = [\"#FFD97D\",\"#FF9B85\"]\n",
    "desfase = [0.03, 0.0]\n",
    "\n",
    "oportunidades_count = oportunidades_dif_amount_stage.groupby('Stage').count()\n",
    "oportunidades_count = oportunidades_count.reset_index()\n",
    "ax = plt.pie(oportunidades_count['Delta_Amount'], labels = oportunidades_count['Stage'], autopct=\"%0.1f %%\", \\\n",
    "        textprops={'fontsize': 16, 'color': '#02025F'}, colors = colores, explode=desfase)\n",
    "plt.title('Stage para oportunidades con Diferencia entre Total_Tax_Amount y Total_Amount', \n",
    "             pad = 20, \n",
    "             fontdict={'fontsize':20, 'weight':'bold', 'color': '#000000'})\n",
    "plt.axis(\"equal\")"
   ]
  },
  {
   "cell_type": "code",
   "execution_count": null,
   "metadata": {},
   "outputs": [],
   "source": [
    "# Ademas, podemos ver si en cada closed lost el delta es negativo como se supondría que debería suceder, o si\n",
    "# es distinto a lo que esperariamos (Lo mismo para closed wons.)\n",
    "\n",
    "op_filtered = oportunidades_dif_amount_stage.loc[oportunidades_dif_amount_stage['Stage'] == 'Closed Lost']\n",
    "oportunidades_para_scatter = op_filtered.groupby('Delta_Amount').agg({'Stage':'count'})\\\n",
    "                                .reset_index().rename({'Stage':'Cantidad'}, axis='columns')\n",
    "ax = plt.hist(x = oportunidades_para_scatter['Delta_Amount'], bins= 2000)\n",
    "plt.title('Closed Lost en función de la diferencia impositiva.', fontdict={'fontsize':20, 'weight':'bold', 'color': '#000000'})\n",
    "plt.xlabel('Delta Amount')\n",
    "plt.ylabel('Ocurrencia del Delta')"
   ]
  },
  {
   "cell_type": "code",
   "execution_count": null,
   "metadata": {},
   "outputs": [],
   "source": [
    "# Haciendo lo mismo para closed won\n",
    "\n",
    "op_filtered = oportunidades_dif_amount_stage.loc[oportunidades_dif_amount_stage['Stage'] == 'Closed Won']\n",
    "oportunidades_para_scatter = op_filtered.groupby('Delta_Amount').agg({'Stage':'count'})\\\n",
    "                                .reset_index().rename({'Stage':'Cantidad'}, axis='columns')\n",
    "ax = plt.scatter(x = oportunidades_para_scatter['Delta_Amount'], y = oportunidades_para_scatter['Cantidad'])\n",
    "plt.title('Closed Lost en función de la diferencia impositiva.', fontdict={'fontsize':20, 'weight':'bold', 'color': '#000000'})\n",
    "plt.xlabel('Delta Amount')\n",
    "plt.ylabel('Ocurrencia del Delta')"
   ]
  },
  {
   "cell_type": "code",
   "execution_count": null,
   "metadata": {},
   "outputs": [],
   "source": []
  }
 ],
 "metadata": {
  "kernelspec": {
   "display_name": "Python 3",
   "language": "python",
   "name": "python3"
  },
  "language_info": {
   "codemirror_mode": {
    "name": "ipython",
    "version": 3
   },
   "file_extension": ".py",
   "mimetype": "text/x-python",
   "name": "python",
   "nbconvert_exporter": "python",
   "pygments_lexer": "ipython3",
   "version": "3.8.3"
  }
 },
 "nbformat": 4,
 "nbformat_minor": 4
}
