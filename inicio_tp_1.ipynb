{
 "metadata": {
  "language_info": {
   "codemirror_mode": {
    "name": "ipython",
    "version": 3
   },
   "file_extension": ".py",
   "mimetype": "text/x-python",
   "name": "python",
   "nbconvert_exporter": "python",
   "pygments_lexer": "ipython3",
   "version": "3.8.3-final"
  },
  "orig_nbformat": 2,
  "kernelspec": {
   "name": "Python 3.8.3 64-bit ('base': conda)",
   "display_name": "Python 3.8.3 64-bit ('base': conda)",
   "metadata": {
    "interpreter": {
     "hash": "319c24ade14b7873a3f936c1569cf8c1853592b8350107cb8f60c9b2a2771b37"
    }
   }
  }
 },
 "nbformat": 4,
 "nbformat_minor": 2,
 "cells": [
  {
   "cell_type": "code",
   "execution_count": 118,
   "metadata": {},
   "outputs": [],
   "source": [
    "import pandas as pd\n",
    "import numpy as np\n",
    "import seaborn as sns\n",
    "import matplotlib.pyplot as plt\n",
    "%matplotlib inline"
   ]
  },
  {
   "cell_type": "code",
   "execution_count": 119,
   "metadata": {},
   "outputs": [
    {
     "output_type": "execute_result",
     "data": {
      "text/plain": [
       "      ID    Region   Territory  Pricing, Delivery_Terms_Quote_Appr  \\\n",
       "0  27761      EMEA        None                                   1   \n",
       "1  27760      EMEA        None                                   0   \n",
       "2  27446  Americas  NW America                                   0   \n",
       "3  16808  Americas  NW America                                   1   \n",
       "4  16805  Americas  NW America                                   1   \n",
       "\n",
       "   Pricing, Delivery_Terms_Approved  Bureaucratic_Code_0_Approval  \\\n",
       "0                                 1                             1   \n",
       "1                                 0                             0   \n",
       "2                                 0                             0   \n",
       "3                                 0                             1   \n",
       "4                                 0                             1   \n",
       "\n",
       "   Bureaucratic_Code_0_Approved  Submitted_for_Approval    Bureaucratic_Code  \\\n",
       "0                             1                       0  Bureaucratic_Code_4   \n",
       "1                             0                       0  Bureaucratic_Code_4   \n",
       "2                             0                       0  Bureaucratic_Code_4   \n",
       "3                             0                       0  Bureaucratic_Code_5   \n",
       "4                             0                       0  Bureaucratic_Code_5   \n",
       "\n",
       "  Account_Created_Date  ... Delivery_Quarter Delivery_Year  \\\n",
       "0            6/16/2015  ...               Q2          2016   \n",
       "1            6/16/2015  ...               Q1          2016   \n",
       "2            4/21/2015  ...               Q1          2016   \n",
       "3            7/27/2013  ...               Q1          2018   \n",
       "4            7/27/2013  ...               Q1          2018   \n",
       "\n",
       "  Actual_Delivery_Date TRF  Total_Amount_Currency Total_Amount  \\\n",
       "0                  NaT  10                    EUR    5272800.0   \n",
       "1                  NaT   0                    EUR      48230.0   \n",
       "2                  NaT   0                    USD      83865.6   \n",
       "3                  NaT  14                    USD    7421881.5   \n",
       "4                  NaT  25                    USD   13357192.5   \n",
       "\n",
       "  Total_Taxable_Amount_Currency Total_Taxable_Amount        Stage  \\\n",
       "0                           EUR            5272800.0  Closed Lost   \n",
       "1                           EUR              48230.0   Closed Won   \n",
       "2                           USD              83865.6   Closed Won   \n",
       "3                           USD            7421881.5  Closed Lost   \n",
       "4                           USD           13357192.5  Closed Lost   \n",
       "\n",
       "        Prod_Category_A  \n",
       "0  Prod_Category_A_None  \n",
       "1  Prod_Category_A_None  \n",
       "2  Prod_Category_A_None  \n",
       "3  Prod_Category_A_None  \n",
       "4  Prod_Category_A_None  \n",
       "\n",
       "[5 rows x 52 columns]"
      ],
      "text/html": "<div>\n<style scoped>\n    .dataframe tbody tr th:only-of-type {\n        vertical-align: middle;\n    }\n\n    .dataframe tbody tr th {\n        vertical-align: top;\n    }\n\n    .dataframe thead th {\n        text-align: right;\n    }\n</style>\n<table border=\"1\" class=\"dataframe\">\n  <thead>\n    <tr style=\"text-align: right;\">\n      <th></th>\n      <th>ID</th>\n      <th>Region</th>\n      <th>Territory</th>\n      <th>Pricing, Delivery_Terms_Quote_Appr</th>\n      <th>Pricing, Delivery_Terms_Approved</th>\n      <th>Bureaucratic_Code_0_Approval</th>\n      <th>Bureaucratic_Code_0_Approved</th>\n      <th>Submitted_for_Approval</th>\n      <th>Bureaucratic_Code</th>\n      <th>Account_Created_Date</th>\n      <th>...</th>\n      <th>Delivery_Quarter</th>\n      <th>Delivery_Year</th>\n      <th>Actual_Delivery_Date</th>\n      <th>TRF</th>\n      <th>Total_Amount_Currency</th>\n      <th>Total_Amount</th>\n      <th>Total_Taxable_Amount_Currency</th>\n      <th>Total_Taxable_Amount</th>\n      <th>Stage</th>\n      <th>Prod_Category_A</th>\n    </tr>\n  </thead>\n  <tbody>\n    <tr>\n      <th>0</th>\n      <td>27761</td>\n      <td>EMEA</td>\n      <td>None</td>\n      <td>1</td>\n      <td>1</td>\n      <td>1</td>\n      <td>1</td>\n      <td>0</td>\n      <td>Bureaucratic_Code_4</td>\n      <td>6/16/2015</td>\n      <td>...</td>\n      <td>Q2</td>\n      <td>2016</td>\n      <td>NaT</td>\n      <td>10</td>\n      <td>EUR</td>\n      <td>5272800.0</td>\n      <td>EUR</td>\n      <td>5272800.0</td>\n      <td>Closed Lost</td>\n      <td>Prod_Category_A_None</td>\n    </tr>\n    <tr>\n      <th>1</th>\n      <td>27760</td>\n      <td>EMEA</td>\n      <td>None</td>\n      <td>0</td>\n      <td>0</td>\n      <td>0</td>\n      <td>0</td>\n      <td>0</td>\n      <td>Bureaucratic_Code_4</td>\n      <td>6/16/2015</td>\n      <td>...</td>\n      <td>Q1</td>\n      <td>2016</td>\n      <td>NaT</td>\n      <td>0</td>\n      <td>EUR</td>\n      <td>48230.0</td>\n      <td>EUR</td>\n      <td>48230.0</td>\n      <td>Closed Won</td>\n      <td>Prod_Category_A_None</td>\n    </tr>\n    <tr>\n      <th>2</th>\n      <td>27446</td>\n      <td>Americas</td>\n      <td>NW America</td>\n      <td>0</td>\n      <td>0</td>\n      <td>0</td>\n      <td>0</td>\n      <td>0</td>\n      <td>Bureaucratic_Code_4</td>\n      <td>4/21/2015</td>\n      <td>...</td>\n      <td>Q1</td>\n      <td>2016</td>\n      <td>NaT</td>\n      <td>0</td>\n      <td>USD</td>\n      <td>83865.6</td>\n      <td>USD</td>\n      <td>83865.6</td>\n      <td>Closed Won</td>\n      <td>Prod_Category_A_None</td>\n    </tr>\n    <tr>\n      <th>3</th>\n      <td>16808</td>\n      <td>Americas</td>\n      <td>NW America</td>\n      <td>1</td>\n      <td>0</td>\n      <td>1</td>\n      <td>0</td>\n      <td>0</td>\n      <td>Bureaucratic_Code_5</td>\n      <td>7/27/2013</td>\n      <td>...</td>\n      <td>Q1</td>\n      <td>2018</td>\n      <td>NaT</td>\n      <td>14</td>\n      <td>USD</td>\n      <td>7421881.5</td>\n      <td>USD</td>\n      <td>7421881.5</td>\n      <td>Closed Lost</td>\n      <td>Prod_Category_A_None</td>\n    </tr>\n    <tr>\n      <th>4</th>\n      <td>16805</td>\n      <td>Americas</td>\n      <td>NW America</td>\n      <td>1</td>\n      <td>0</td>\n      <td>1</td>\n      <td>0</td>\n      <td>0</td>\n      <td>Bureaucratic_Code_5</td>\n      <td>7/27/2013</td>\n      <td>...</td>\n      <td>Q1</td>\n      <td>2018</td>\n      <td>NaT</td>\n      <td>25</td>\n      <td>USD</td>\n      <td>13357192.5</td>\n      <td>USD</td>\n      <td>13357192.5</td>\n      <td>Closed Lost</td>\n      <td>Prod_Category_A_None</td>\n    </tr>\n  </tbody>\n</table>\n<p>5 rows × 52 columns</p>\n</div>"
     },
     "metadata": {},
     "execution_count": 119
    }
   ],
   "source": [
    "# Primera observación a la base de datos\n",
    "\n",
    "oportunidades = pd.read_csv('Entrenamiento_ECI_2020.csv')\n",
    "oportunidades.head()"
   ]
  },
  {
   "cell_type": "code",
   "execution_count": 134,
   "metadata": {},
   "outputs": [
    {
     "output_type": "execute_result",
     "data": {
      "text/plain": [
       "          ID    Region   Territory  Pricing, Delivery_Terms_Quote_Appr  \\\n",
       "0      27761      EMEA        None                                   1   \n",
       "1      27760      EMEA        None                                   0   \n",
       "2      27446  Americas  NW America                                   0   \n",
       "7      27455  Americas  NW America                                   1   \n",
       "23     28524      APAC       India                                   1   \n",
       "...      ...       ...         ...                                 ...   \n",
       "16942   8781      EMEA     Austria                                   1   \n",
       "16943   8786      EMEA     Austria                                   1   \n",
       "16944   8792      EMEA     Austria                                   1   \n",
       "16945  28561  Americas  NE America                                   1   \n",
       "16946  28318  Americas  NE America                                   1   \n",
       "\n",
       "       Pricing, Delivery_Terms_Approved  Bureaucratic_Code_0_Approval  \\\n",
       "0                                     1                             1   \n",
       "1                                     0                             0   \n",
       "2                                     0                             0   \n",
       "7                                     1                             1   \n",
       "23                                    1                             1   \n",
       "...                                 ...                           ...   \n",
       "16942                                 1                             1   \n",
       "16943                                 1                             1   \n",
       "16944                                 1                             1   \n",
       "16945                                 1                             1   \n",
       "16946                                 1                             1   \n",
       "\n",
       "       Bureaucratic_Code_0_Approved  Submitted_for_Approval  \\\n",
       "0                                 1                       0   \n",
       "1                                 0                       0   \n",
       "2                                 0                       0   \n",
       "7                                 1                       0   \n",
       "23                                1                       0   \n",
       "...                             ...                     ...   \n",
       "16942                             1                       0   \n",
       "16943                             1                       0   \n",
       "16944                             1                       0   \n",
       "16945                             1                       0   \n",
       "16946                             1                       0   \n",
       "\n",
       "         Bureaucratic_Code Account_Created_Date  ... Delivery_Quarter  \\\n",
       "0      Bureaucratic_Code_4            6/16/2015  ...               Q2   \n",
       "1      Bureaucratic_Code_4            6/16/2015  ...               Q1   \n",
       "2      Bureaucratic_Code_4            4/21/2015  ...               Q1   \n",
       "7      Bureaucratic_Code_4            4/21/2015  ...               Q1   \n",
       "23     Bureaucratic_Code_4           10/13/2015  ...               Q1   \n",
       "...                    ...                  ...  ...              ...   \n",
       "16942  Bureaucratic_Code_4            1/15/2016  ...               Q1   \n",
       "16943  Bureaucratic_Code_4            1/15/2016  ...               Q2   \n",
       "16944  Bureaucratic_Code_4            1/15/2016  ...               Q1   \n",
       "16945  Bureaucratic_Code_4           10/20/2015  ...               Q2   \n",
       "16946  Bureaucratic_Code_4             9/3/2015  ...               Q3   \n",
       "\n",
       "      Delivery_Year Actual_Delivery_Date TRF  Total_Amount_Currency  \\\n",
       "0              2016                  NaT  10                    EUR   \n",
       "1              2016                  NaT   0                    EUR   \n",
       "2              2016                  NaT   0                    USD   \n",
       "7              2016                  NaT   0                    USD   \n",
       "23             2016                  NaT   3                    USD   \n",
       "...             ...                  ...  ..                    ...   \n",
       "16942          2016                  NaT   0                    EUR   \n",
       "16943          2016                  NaT   0                    EUR   \n",
       "16944          2016                  NaT   0                    EUR   \n",
       "16945          2016                  NaT   4                    USD   \n",
       "16946          2016                  NaT  40                    USD   \n",
       "\n",
       "      Total_Amount Total_Taxable_Amount_Currency Total_Taxable_Amount  \\\n",
       "0       5272800.00                           EUR            5272800.0   \n",
       "1         48230.00                           EUR              48230.0   \n",
       "2         83865.60                           USD              83865.6   \n",
       "7         50688.00                           USD              50688.0   \n",
       "23      1621851.00                           USD            1621851.0   \n",
       "...            ...                           ...                  ...   \n",
       "16942    103350.00                           EUR             299715.0   \n",
       "16943     93015.00                           EUR             299715.0   \n",
       "16944    103350.00                           EUR             299715.0   \n",
       "16945   2346796.88                           USD                  0.0   \n",
       "16946  25603200.00                           USD                  0.0   \n",
       "\n",
       "             Stage       Prod_Category_A  \n",
       "0      Closed Lost  Prod_Category_A_None  \n",
       "1       Closed Won  Prod_Category_A_None  \n",
       "2       Closed Won  Prod_Category_A_None  \n",
       "7       Closed Won  Prod_Category_A_None  \n",
       "23      Closed Won  Prod_Category_A_None  \n",
       "...            ...                   ...  \n",
       "16942   Closed Won  Prod_Category_A_None  \n",
       "16943   Closed Won  Prod_Category_A_None  \n",
       "16944   Closed Won  Prod_Category_A_None  \n",
       "16945  Closed Lost  Prod_Category_A_None  \n",
       "16946  Closed Lost  Prod_Category_A_None  \n",
       "\n",
       "[12902 rows x 52 columns]"
      ],
      "text/html": "<div>\n<style scoped>\n    .dataframe tbody tr th:only-of-type {\n        vertical-align: middle;\n    }\n\n    .dataframe tbody tr th {\n        vertical-align: top;\n    }\n\n    .dataframe thead th {\n        text-align: right;\n    }\n</style>\n<table border=\"1\" class=\"dataframe\">\n  <thead>\n    <tr style=\"text-align: right;\">\n      <th></th>\n      <th>ID</th>\n      <th>Region</th>\n      <th>Territory</th>\n      <th>Pricing, Delivery_Terms_Quote_Appr</th>\n      <th>Pricing, Delivery_Terms_Approved</th>\n      <th>Bureaucratic_Code_0_Approval</th>\n      <th>Bureaucratic_Code_0_Approved</th>\n      <th>Submitted_for_Approval</th>\n      <th>Bureaucratic_Code</th>\n      <th>Account_Created_Date</th>\n      <th>...</th>\n      <th>Delivery_Quarter</th>\n      <th>Delivery_Year</th>\n      <th>Actual_Delivery_Date</th>\n      <th>TRF</th>\n      <th>Total_Amount_Currency</th>\n      <th>Total_Amount</th>\n      <th>Total_Taxable_Amount_Currency</th>\n      <th>Total_Taxable_Amount</th>\n      <th>Stage</th>\n      <th>Prod_Category_A</th>\n    </tr>\n  </thead>\n  <tbody>\n    <tr>\n      <th>0</th>\n      <td>27761</td>\n      <td>EMEA</td>\n      <td>None</td>\n      <td>1</td>\n      <td>1</td>\n      <td>1</td>\n      <td>1</td>\n      <td>0</td>\n      <td>Bureaucratic_Code_4</td>\n      <td>6/16/2015</td>\n      <td>...</td>\n      <td>Q2</td>\n      <td>2016</td>\n      <td>NaT</td>\n      <td>10</td>\n      <td>EUR</td>\n      <td>5272800.00</td>\n      <td>EUR</td>\n      <td>5272800.0</td>\n      <td>Closed Lost</td>\n      <td>Prod_Category_A_None</td>\n    </tr>\n    <tr>\n      <th>1</th>\n      <td>27760</td>\n      <td>EMEA</td>\n      <td>None</td>\n      <td>0</td>\n      <td>0</td>\n      <td>0</td>\n      <td>0</td>\n      <td>0</td>\n      <td>Bureaucratic_Code_4</td>\n      <td>6/16/2015</td>\n      <td>...</td>\n      <td>Q1</td>\n      <td>2016</td>\n      <td>NaT</td>\n      <td>0</td>\n      <td>EUR</td>\n      <td>48230.00</td>\n      <td>EUR</td>\n      <td>48230.0</td>\n      <td>Closed Won</td>\n      <td>Prod_Category_A_None</td>\n    </tr>\n    <tr>\n      <th>2</th>\n      <td>27446</td>\n      <td>Americas</td>\n      <td>NW America</td>\n      <td>0</td>\n      <td>0</td>\n      <td>0</td>\n      <td>0</td>\n      <td>0</td>\n      <td>Bureaucratic_Code_4</td>\n      <td>4/21/2015</td>\n      <td>...</td>\n      <td>Q1</td>\n      <td>2016</td>\n      <td>NaT</td>\n      <td>0</td>\n      <td>USD</td>\n      <td>83865.60</td>\n      <td>USD</td>\n      <td>83865.6</td>\n      <td>Closed Won</td>\n      <td>Prod_Category_A_None</td>\n    </tr>\n    <tr>\n      <th>7</th>\n      <td>27455</td>\n      <td>Americas</td>\n      <td>NW America</td>\n      <td>1</td>\n      <td>1</td>\n      <td>1</td>\n      <td>1</td>\n      <td>0</td>\n      <td>Bureaucratic_Code_4</td>\n      <td>4/21/2015</td>\n      <td>...</td>\n      <td>Q1</td>\n      <td>2016</td>\n      <td>NaT</td>\n      <td>0</td>\n      <td>USD</td>\n      <td>50688.00</td>\n      <td>USD</td>\n      <td>50688.0</td>\n      <td>Closed Won</td>\n      <td>Prod_Category_A_None</td>\n    </tr>\n    <tr>\n      <th>23</th>\n      <td>28524</td>\n      <td>APAC</td>\n      <td>India</td>\n      <td>1</td>\n      <td>1</td>\n      <td>1</td>\n      <td>1</td>\n      <td>0</td>\n      <td>Bureaucratic_Code_4</td>\n      <td>10/13/2015</td>\n      <td>...</td>\n      <td>Q1</td>\n      <td>2016</td>\n      <td>NaT</td>\n      <td>3</td>\n      <td>USD</td>\n      <td>1621851.00</td>\n      <td>USD</td>\n      <td>1621851.0</td>\n      <td>Closed Won</td>\n      <td>Prod_Category_A_None</td>\n    </tr>\n    <tr>\n      <th>...</th>\n      <td>...</td>\n      <td>...</td>\n      <td>...</td>\n      <td>...</td>\n      <td>...</td>\n      <td>...</td>\n      <td>...</td>\n      <td>...</td>\n      <td>...</td>\n      <td>...</td>\n      <td>...</td>\n      <td>...</td>\n      <td>...</td>\n      <td>...</td>\n      <td>...</td>\n      <td>...</td>\n      <td>...</td>\n      <td>...</td>\n      <td>...</td>\n      <td>...</td>\n      <td>...</td>\n    </tr>\n    <tr>\n      <th>16942</th>\n      <td>8781</td>\n      <td>EMEA</td>\n      <td>Austria</td>\n      <td>1</td>\n      <td>1</td>\n      <td>1</td>\n      <td>1</td>\n      <td>0</td>\n      <td>Bureaucratic_Code_4</td>\n      <td>1/15/2016</td>\n      <td>...</td>\n      <td>Q1</td>\n      <td>2016</td>\n      <td>NaT</td>\n      <td>0</td>\n      <td>EUR</td>\n      <td>103350.00</td>\n      <td>EUR</td>\n      <td>299715.0</td>\n      <td>Closed Won</td>\n      <td>Prod_Category_A_None</td>\n    </tr>\n    <tr>\n      <th>16943</th>\n      <td>8786</td>\n      <td>EMEA</td>\n      <td>Austria</td>\n      <td>1</td>\n      <td>1</td>\n      <td>1</td>\n      <td>1</td>\n      <td>0</td>\n      <td>Bureaucratic_Code_4</td>\n      <td>1/15/2016</td>\n      <td>...</td>\n      <td>Q2</td>\n      <td>2016</td>\n      <td>NaT</td>\n      <td>0</td>\n      <td>EUR</td>\n      <td>93015.00</td>\n      <td>EUR</td>\n      <td>299715.0</td>\n      <td>Closed Won</td>\n      <td>Prod_Category_A_None</td>\n    </tr>\n    <tr>\n      <th>16944</th>\n      <td>8792</td>\n      <td>EMEA</td>\n      <td>Austria</td>\n      <td>1</td>\n      <td>1</td>\n      <td>1</td>\n      <td>1</td>\n      <td>0</td>\n      <td>Bureaucratic_Code_4</td>\n      <td>1/15/2016</td>\n      <td>...</td>\n      <td>Q1</td>\n      <td>2016</td>\n      <td>NaT</td>\n      <td>0</td>\n      <td>EUR</td>\n      <td>103350.00</td>\n      <td>EUR</td>\n      <td>299715.0</td>\n      <td>Closed Won</td>\n      <td>Prod_Category_A_None</td>\n    </tr>\n    <tr>\n      <th>16945</th>\n      <td>28561</td>\n      <td>Americas</td>\n      <td>NE America</td>\n      <td>1</td>\n      <td>1</td>\n      <td>1</td>\n      <td>1</td>\n      <td>0</td>\n      <td>Bureaucratic_Code_4</td>\n      <td>10/20/2015</td>\n      <td>...</td>\n      <td>Q2</td>\n      <td>2016</td>\n      <td>NaT</td>\n      <td>4</td>\n      <td>USD</td>\n      <td>2346796.88</td>\n      <td>USD</td>\n      <td>0.0</td>\n      <td>Closed Lost</td>\n      <td>Prod_Category_A_None</td>\n    </tr>\n    <tr>\n      <th>16946</th>\n      <td>28318</td>\n      <td>Americas</td>\n      <td>NE America</td>\n      <td>1</td>\n      <td>1</td>\n      <td>1</td>\n      <td>1</td>\n      <td>0</td>\n      <td>Bureaucratic_Code_4</td>\n      <td>9/3/2015</td>\n      <td>...</td>\n      <td>Q3</td>\n      <td>2016</td>\n      <td>NaT</td>\n      <td>40</td>\n      <td>USD</td>\n      <td>25603200.00</td>\n      <td>USD</td>\n      <td>0.0</td>\n      <td>Closed Lost</td>\n      <td>Prod_Category_A_None</td>\n    </tr>\n  </tbody>\n</table>\n<p>12902 rows × 52 columns</p>\n</div>"
     },
     "metadata": {},
     "execution_count": 134
    }
   ],
   "source": [
    "# Se filtran todos los datos que cuya posibilidad de completar la venta sea nula\n",
    "# por falta de requisitos necesarios.\n",
    "\n",
    "filtro_terminos_entrega = (oportunidades['Pricing, Delivery_Terms_Quote_Appr']\\\n",
    "     == oportunidades['Pricing, Delivery_Terms_Approved'])\n",
    "filtro_codigo_burocratico = (oportunidades['Bureaucratic_Code_0_Approval']\\\n",
    "     == oportunidades['Bureaucratic_Code_0_Approved'])\n",
    "\n",
    "oportunidades_posibles = oportunidades.loc[filtro_terminos_entrega]\n",
    "oportunidades_posibles = oportunidades_posibles.loc[filtro_codigo_burocratico]\n",
    "oportunidades_posibles = oportunidades_posibles.drop(['Pricing, Delivery_Terms_Quote_Appr'\\\n",
    "    , 'Pricing, Delivery_Terms_Approved', 'Bureaucratic_Code_0_Approval'\\\n",
    "        ,'Bureaucratic_Code_0_Approved'], axis = 'columns')\n",
    "oportunidades_posibles"
   ]
  },
  {
   "cell_type": "code",
   "execution_count": 121,
   "metadata": {},
   "outputs": [],
   "source": [
    "#porcentaje_oportunidades_posibles = (len(oportunidades_posibles.index)\\\n",
    "#    /len(oportunidades.index)) * 100\n",
    "#print(\"Porcentaje de oportunidades posibles: {0:.2f}%\".format(porcentaje_oportunidades_posibles))'''\n"
   ]
  },
  {
   "cell_type": "code",
   "execution_count": 124,
   "metadata": {},
   "outputs": [
    {
     "output_type": "execute_result",
     "data": {
      "text/plain": [
       "<bound method Series.count of 0            EMEA\n",
       "1            EMEA\n",
       "2        Americas\n",
       "3        Americas\n",
       "4        Americas\n",
       "           ...   \n",
       "16942        EMEA\n",
       "16943        EMEA\n",
       "16944        EMEA\n",
       "16945    Americas\n",
       "16946    Americas\n",
       "Name: Region, Length: 16947, dtype: object>"
      ]
     },
     "metadata": {},
     "execution_count": 124
    }
   ],
   "source": [
    "oportunidades.groupby('Region').agg"
   ]
  }
 ]
}